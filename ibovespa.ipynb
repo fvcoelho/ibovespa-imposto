{
 "metadata": {
  "language_info": {
   "codemirror_mode": {
    "name": "ipython",
    "version": 3
   },
   "file_extension": ".py",
   "mimetype": "text/x-python",
   "name": "python",
   "nbconvert_exporter": "python",
   "pygments_lexer": "ipython3",
   "version": "3.7.8-final"
  },
  "orig_nbformat": 2,
  "kernelspec": {
   "name": "python37664bitbaseconda10232f792aef4e03b085a3566ed2c3d6",
   "display_name": "Python 3.7.6 64-bit ('base': conda)"
  }
 },
 "nbformat": 4,
 "nbformat_minor": 2,
 "cells": [
  {
   "cell_type": "code",
   "execution_count": 1,
   "metadata": {},
   "outputs": [],
   "source": [
    "import pandas as pd\n",
    "import re\n",
    "import math\n",
    "import numpy as np"
   ]
  },
  {
   "cell_type": "code",
   "execution_count": null,
   "metadata": {},
   "outputs": [],
   "source": []
  },
  {
   "cell_type": "code",
   "execution_count": null,
   "metadata": {},
   "outputs": [],
   "source": []
  },
  {
   "cell_type": "markdown",
   "metadata": {},
   "source": [
    "# Data Preprocessing"
   ]
  },
  {
   "cell_type": "code",
   "execution_count": 2,
   "metadata": {
    "tags": []
   },
   "outputs": [
    {
     "output_type": "stream",
     "name": "stdout",
     "text": "WARNING *** file size (140071) not 512 + multiple of sector size (512)\n"
    }
   ],
   "source": [
    "df_orig = pd.read_excel(\"masoud.xls\", skiprows=10, skipfooter=4)"
   ]
  },
  {
   "cell_type": "code",
   "execution_count": 3,
   "metadata": {},
   "outputs": [
    {
     "output_type": "execute_result",
     "data": {
      "text/plain": "   Unnamed: 0 Data Negócio  Unnamed: 2                 C/V  \\\n0         NaN     12/03/20         NaN  C                    \n1         NaN     12/03/20         NaN  C                    \n2         NaN     12/03/20         NaN  C                    \n3         NaN     12/03/20         NaN  C                    \n4         NaN     12/03/20         NaN  C                    \n\n                Mercado  Prazo   Código   Especificação do Ativo  Quantidade  \\\n0  Mercado a Vista         NaN    COGN3  COGNA ON     ON      NM         100   \n1  Mercado a Vista         NaN    PETR4  PETROBRAS    PN      N2         100   \n2  Merc. Fracionário       NaN  BPAC11F  BTGP BANCO   UNT     N2          30   \n3  Merc. Fracionário       NaN   MGLU3F  MAGAZ LUIZA  ON      NM          35   \n4  Merc. Fracionário       NaN   PRIO3F  PETRORIO     ON      NM          38   \n\n   Preço (R$)  Valor Total (R$)  \n0        6.40            640.00  \n1       12.65           1265.00  \n2       39.00           1170.00  \n3       33.85           1184.75  \n4       17.57            667.66  ",
      "text/html": "<div>\n<style scoped>\n    .dataframe tbody tr th:only-of-type {\n        vertical-align: middle;\n    }\n\n    .dataframe tbody tr th {\n        vertical-align: top;\n    }\n\n    .dataframe thead th {\n        text-align: right;\n    }\n</style>\n<table border=\"1\" class=\"dataframe\">\n  <thead>\n    <tr style=\"text-align: right;\">\n      <th></th>\n      <th>Unnamed: 0</th>\n      <th>Data Negócio</th>\n      <th>Unnamed: 2</th>\n      <th>C/V</th>\n      <th>Mercado</th>\n      <th>Prazo</th>\n      <th>Código</th>\n      <th>Especificação do Ativo</th>\n      <th>Quantidade</th>\n      <th>Preço (R$)</th>\n      <th>Valor Total (R$)</th>\n    </tr>\n  </thead>\n  <tbody>\n    <tr>\n      <th>0</th>\n      <td>NaN</td>\n      <td>12/03/20</td>\n      <td>NaN</td>\n      <td>C</td>\n      <td>Mercado a Vista</td>\n      <td>NaN</td>\n      <td>COGN3</td>\n      <td>COGNA ON     ON      NM</td>\n      <td>100</td>\n      <td>6.40</td>\n      <td>640.00</td>\n    </tr>\n    <tr>\n      <th>1</th>\n      <td>NaN</td>\n      <td>12/03/20</td>\n      <td>NaN</td>\n      <td>C</td>\n      <td>Mercado a Vista</td>\n      <td>NaN</td>\n      <td>PETR4</td>\n      <td>PETROBRAS    PN      N2</td>\n      <td>100</td>\n      <td>12.65</td>\n      <td>1265.00</td>\n    </tr>\n    <tr>\n      <th>2</th>\n      <td>NaN</td>\n      <td>12/03/20</td>\n      <td>NaN</td>\n      <td>C</td>\n      <td>Merc. Fracionário</td>\n      <td>NaN</td>\n      <td>BPAC11F</td>\n      <td>BTGP BANCO   UNT     N2</td>\n      <td>30</td>\n      <td>39.00</td>\n      <td>1170.00</td>\n    </tr>\n    <tr>\n      <th>3</th>\n      <td>NaN</td>\n      <td>12/03/20</td>\n      <td>NaN</td>\n      <td>C</td>\n      <td>Merc. Fracionário</td>\n      <td>NaN</td>\n      <td>MGLU3F</td>\n      <td>MAGAZ LUIZA  ON      NM</td>\n      <td>35</td>\n      <td>33.85</td>\n      <td>1184.75</td>\n    </tr>\n    <tr>\n      <th>4</th>\n      <td>NaN</td>\n      <td>12/03/20</td>\n      <td>NaN</td>\n      <td>C</td>\n      <td>Merc. Fracionário</td>\n      <td>NaN</td>\n      <td>PRIO3F</td>\n      <td>PETRORIO     ON      NM</td>\n      <td>38</td>\n      <td>17.57</td>\n      <td>667.66</td>\n    </tr>\n  </tbody>\n</table>\n</div>"
     },
     "metadata": {},
     "execution_count": 3
    }
   ],
   "source": [
    "df_orig.head()"
   ]
  },
  {
   "cell_type": "code",
   "execution_count": 4,
   "metadata": {},
   "outputs": [],
   "source": [
    "df_orig.drop([x for x in df_orig.columns if x.startswith(\"Unn\")], axis=1 , inplace=True)"
   ]
  },
  {
   "cell_type": "code",
   "execution_count": 5,
   "metadata": {},
   "outputs": [],
   "source": [
    "df_orig['Data Negócio'] = pd.to_datetime(df_orig['Data Negócio'],dayfirst=True)\n",
    "#df_orig['Data Negócio'] = df_orig['Data Negócio'].dt.date"
   ]
  },
  {
   "cell_type": "markdown",
   "metadata": {},
   "source": [
    "Correcting the problem in the column \"C/V"
   ]
  },
  {
   "cell_type": "code",
   "execution_count": 6,
   "metadata": {},
   "outputs": [],
   "source": [
    "def correction(x):\n",
    "    if \"C\" in x:\n",
    "        x = \"C\"\n",
    "    elif 'V' in x:\n",
    "        x = \"V\"\n",
    "    return x\n",
    "\n",
    "\n",
    "df_orig['C/V']=df_orig[\"C/V\"].apply(correction)"
   ]
  },
  {
   "cell_type": "code",
   "execution_count": 7,
   "metadata": {},
   "outputs": [],
   "source": [
    "def fracionario_to_normal(x):\n",
    "    if x.endswith(\"F\"):\n",
    "        x = x[:-1]\n",
    "    return x\n",
    "\n",
    "df_orig['Código'] = df_orig[\"Código\"].apply(fracionario_to_normal)\n"
   ]
  },
  {
   "cell_type": "code",
   "execution_count": 8,
   "metadata": {},
   "outputs": [],
   "source": [
    "df_orig.drop(['Mercado', 'Prazo',\n",
    "       'Especificação do Ativo',], axis=1, inplace=True)"
   ]
  },
  {
   "cell_type": "code",
   "execution_count": 9,
   "metadata": {},
   "outputs": [
    {
     "output_type": "execute_result",
     "data": {
      "text/plain": "  Data Negócio C/V  Código  Quantidade  Preço (R$)  Valor Total (R$)\n0   2020-03-12   C   COGN3         100        6.40            640.00\n1   2020-03-12   C   PETR4         100       12.65           1265.00\n2   2020-03-12   C  BPAC11          30       39.00           1170.00\n3   2020-03-12   C   MGLU3          35       33.85           1184.75\n4   2020-03-12   C   PRIO3          38       17.57            667.66",
      "text/html": "<div>\n<style scoped>\n    .dataframe tbody tr th:only-of-type {\n        vertical-align: middle;\n    }\n\n    .dataframe tbody tr th {\n        vertical-align: top;\n    }\n\n    .dataframe thead th {\n        text-align: right;\n    }\n</style>\n<table border=\"1\" class=\"dataframe\">\n  <thead>\n    <tr style=\"text-align: right;\">\n      <th></th>\n      <th>Data Negócio</th>\n      <th>C/V</th>\n      <th>Código</th>\n      <th>Quantidade</th>\n      <th>Preço (R$)</th>\n      <th>Valor Total (R$)</th>\n    </tr>\n  </thead>\n  <tbody>\n    <tr>\n      <th>0</th>\n      <td>2020-03-12</td>\n      <td>C</td>\n      <td>COGN3</td>\n      <td>100</td>\n      <td>6.40</td>\n      <td>640.00</td>\n    </tr>\n    <tr>\n      <th>1</th>\n      <td>2020-03-12</td>\n      <td>C</td>\n      <td>PETR4</td>\n      <td>100</td>\n      <td>12.65</td>\n      <td>1265.00</td>\n    </tr>\n    <tr>\n      <th>2</th>\n      <td>2020-03-12</td>\n      <td>C</td>\n      <td>BPAC11</td>\n      <td>30</td>\n      <td>39.00</td>\n      <td>1170.00</td>\n    </tr>\n    <tr>\n      <th>3</th>\n      <td>2020-03-12</td>\n      <td>C</td>\n      <td>MGLU3</td>\n      <td>35</td>\n      <td>33.85</td>\n      <td>1184.75</td>\n    </tr>\n    <tr>\n      <th>4</th>\n      <td>2020-03-12</td>\n      <td>C</td>\n      <td>PRIO3</td>\n      <td>38</td>\n      <td>17.57</td>\n      <td>667.66</td>\n    </tr>\n  </tbody>\n</table>\n</div>"
     },
     "metadata": {},
     "execution_count": 9
    }
   ],
   "source": [
    "df_orig.head()"
   ]
  },
  {
   "cell_type": "code",
   "execution_count": null,
   "metadata": {},
   "outputs": [],
   "source": []
  },
  {
   "cell_type": "code",
   "execution_count": 14,
   "metadata": {
    "tags": []
   },
   "outputs": [],
   "source": [
    "def check_consistency():\n",
    "\n",
    "    df = pd.read_csv(\"df.csv\", index_col=0)\n",
    "    df['Data Negócio'] = pd.to_datetime(df['Data Negócio'],dayfirst=True)\n",
    "    \n",
    "    #status = True\n",
    "\n",
    "    fail = {'ticker':'', 'date':'', \"index\":'' }\n",
    "    for ticker in df[\"Código\"].unique():\n",
    "\n",
    "        if len(df[(df[\"C/V\"] == \"V\") & (df[\"Código\"] == ticker)].values) > 0:\n",
    "\t#check to insure the sell date is after the purchase date. It guarantee that we have a mean price to calculate the profit.\n",
    "            \n",
    "            first_sell_index = df[(df[\"C/V\"] == \"V\") & (df[\"Código\"] == ticker)]['Data Negócio'].index[0]\n",
    "            first_sell_date = df.iloc[first_sell_index]['Data Negócio']\n",
    "\n",
    "         \n",
    "\t#check if the sold ticker has a purchased price. It is important to calculate the mean price of the ticker and then profit.\n",
    "            if len(df[(df[\"C/V\"] == \"C\") & (df[\"Código\"] == ticker)]['Data Negócio'].iloc[:first_sell_index]) == 0:\n",
    "                fail['ticker'] = ticker\n",
    "                fail['index'] = first_sell_index\n",
    "                fail['date'] = first_sell_date\n",
    "                status = True\n",
    "                break\n",
    "                \n",
    "            else:\n",
    "                status = False        \n",
    "                \n",
    "    return status ,fail"
   ]
  },
  {
   "cell_type": "code",
   "execution_count": 16,
   "metadata": {
    "tags": []
   },
   "outputs": [
    {
     "output_type": "execute_result",
     "data": {
      "text/plain": "(False, {'ticker': '', 'date': '', 'index': ''})"
     },
     "metadata": {},
     "execution_count": 16
    }
   ],
   "source": [
    "check_consistency()"
   ]
  },
  {
   "cell_type": "code",
   "execution_count": null,
   "metadata": {},
   "outputs": [],
   "source": []
  },
  {
   "cell_type": "code",
   "execution_count": null,
   "metadata": {},
   "outputs": [],
   "source": []
  },
  {
   "cell_type": "code",
   "execution_count": null,
   "metadata": {},
   "outputs": [],
   "source": []
  },
  {
   "cell_type": "markdown",
   "metadata": {},
   "source": [
    "# General View"
   ]
  },
  {
   "cell_type": "markdown",
   "metadata": {},
   "source": [
    "This table specify the day and swing trades. mean cost of the purchased stocks. profit of the sold stocks. "
   ]
  },
  {
   "cell_type": "code",
   "execution_count": 16,
   "metadata": {},
   "outputs": [],
   "source": [
    "df = df_orig.copy()"
   ]
  },
  {
   "cell_type": "markdown",
   "metadata": {},
   "source": [
    "Finding the day-trade negotiations"
   ]
  },
  {
   "cell_type": "code",
   "execution_count": 271,
   "metadata": {},
   "outputs": [],
   "source": [
    "day_trade = {\"date\":[], \"ticker\":[], 'index':[]}\n",
    "\n",
    "dates = df[\"Data Negócio\"].unique()\n",
    "\n",
    "for date in dates:\n",
    "    tickers = df[df[\"Data Negócio\"]==date]['Código'].unique()\n",
    "    for ticker in tickers:\n",
    "        if all(x in df[(df[\"Data Negócio\"]==date) & (df[\"Código\"]==ticker)][\"C/V\"].values for x in [\"C\",\"V\"]):\n",
    "            day_trade['index'].append(df[(df[\"Data Negócio\"]==date) & (df[\"Código\"]==ticker)][\"C/V\"].index)\n",
    "            day_trade['date'].append(date)\n",
    "            day_trade['ticker'].append(ticker)\n",
    "\n",
    "day_trade[\"index\"] = [item for sublist in day_trade['index'] for item in sublist]"
   ]
  },
  {
   "cell_type": "code",
   "execution_count": 272,
   "metadata": {},
   "outputs": [],
   "source": [
    "df_general = df.copy()"
   ]
  },
  {
   "cell_type": "markdown",
   "metadata": {},
   "source": [
    "Creating the \"day/swing\" column"
   ]
  },
  {
   "cell_type": "code",
   "execution_count": 273,
   "metadata": {},
   "outputs": [],
   "source": [
    "df_general['Day/Swing'] = \"Swing\"\n",
    "\n",
    "df_general.at[day_trade['index'], 'Day/Swing'] = 'Day'"
   ]
  },
  {
   "cell_type": "markdown",
   "metadata": {},
   "source": [
    "Calculating the mean cost for each purchase"
   ]
  },
  {
   "cell_type": "code",
   "execution_count": 274,
   "metadata": {},
   "outputs": [
    {
     "output_type": "execute_result",
     "data": {
      "text/plain": "  Data Negócio C/V  Código  Quantidade  Preço (R$)  Valor Total (R$) Day/Swing\n0   2020-05-08   C   COGN3       10000        4.70           47000.0     Swing\n1   2020-05-08   C   TAEE4         100        8.90             890.0     Swing\n2   2020-05-13   C  IRDM11           5      100.42             502.1     Swing\n3   2020-05-13   C   WEGE3           3       38.00             114.0     Swing\n4   2020-05-20   C   BBAS3          35       27.10             948.5     Swing",
      "text/html": "<div>\n<style scoped>\n    .dataframe tbody tr th:only-of-type {\n        vertical-align: middle;\n    }\n\n    .dataframe tbody tr th {\n        vertical-align: top;\n    }\n\n    .dataframe thead th {\n        text-align: right;\n    }\n</style>\n<table border=\"1\" class=\"dataframe\">\n  <thead>\n    <tr style=\"text-align: right;\">\n      <th></th>\n      <th>Data Negócio</th>\n      <th>C/V</th>\n      <th>Código</th>\n      <th>Quantidade</th>\n      <th>Preço (R$)</th>\n      <th>Valor Total (R$)</th>\n      <th>Day/Swing</th>\n    </tr>\n  </thead>\n  <tbody>\n    <tr>\n      <th>0</th>\n      <td>2020-05-08</td>\n      <td>C</td>\n      <td>COGN3</td>\n      <td>10000</td>\n      <td>4.70</td>\n      <td>47000.0</td>\n      <td>Swing</td>\n    </tr>\n    <tr>\n      <th>1</th>\n      <td>2020-05-08</td>\n      <td>C</td>\n      <td>TAEE4</td>\n      <td>100</td>\n      <td>8.90</td>\n      <td>890.0</td>\n      <td>Swing</td>\n    </tr>\n    <tr>\n      <th>2</th>\n      <td>2020-05-13</td>\n      <td>C</td>\n      <td>IRDM11</td>\n      <td>5</td>\n      <td>100.42</td>\n      <td>502.1</td>\n      <td>Swing</td>\n    </tr>\n    <tr>\n      <th>3</th>\n      <td>2020-05-13</td>\n      <td>C</td>\n      <td>WEGE3</td>\n      <td>3</td>\n      <td>38.00</td>\n      <td>114.0</td>\n      <td>Swing</td>\n    </tr>\n    <tr>\n      <th>4</th>\n      <td>2020-05-20</td>\n      <td>C</td>\n      <td>BBAS3</td>\n      <td>35</td>\n      <td>27.10</td>\n      <td>948.5</td>\n      <td>Swing</td>\n    </tr>\n  </tbody>\n</table>\n</div>"
     },
     "metadata": {},
     "execution_count": 274
    }
   ],
   "source": [
    "df_general.head()"
   ]
  },
  {
   "cell_type": "code",
   "execution_count": 299,
   "metadata": {},
   "outputs": [],
   "source": [
    "df_general[\"Valor Total (R$)\"] = np.where(df_general[\"C/V\"] == \"C\", -1* df_general[\"Valor Total (R$)\"], df_general[\"Valor Total (R$)\"])\n",
    "\n",
    "#df_swing[\"Quantidade\"] = np.where(df_swing[\"C/V\"] == \"V\", -1* df_swing[\"Quantidade\"], df_swing[\"Quantidade\"])\n",
    "\n",
    "df_general['Custo de Operação'] = np.where(df_general[\"C/V\"] == \"V\", -1*df_general['Valor Total (R$)'] * (0.000325 + 0.00005),df_general['Valor Total (R$)'] * (0.000325))\n",
    "\n",
    "#df_general['Custo de Operação'] = round(df_general['Custo de Operação'],6)"
   ]
  },
  {
   "cell_type": "code",
   "execution_count": 300,
   "metadata": {},
   "outputs": [
    {
     "output_type": "execute_result",
     "data": {
      "text/plain": "  Data Negócio C/V  Código  Quantidade  Preço (R$)  Valor Total (R$)  \\\n0   2020-05-08   C   COGN3       10000        4.70          -47000.0   \n1   2020-05-08   C   TAEE4         100        8.90            -890.0   \n2   2020-05-13   C  IRDM11           5      100.42            -502.1   \n3   2020-05-13   C   WEGE3           3       38.00            -114.0   \n4   2020-05-20   C   BBAS3          35       27.10            -948.5   \n\n  Day/Swing  Custo de Operação  Custo Médio  Lucro da Venda  \n0     Swing         -15.275000       -4.702             0.0  \n1     Swing          -0.289250       -8.903             0.0  \n2     Swing          -0.163182     -100.453             0.0  \n3     Swing          -0.037050      -38.012             0.0  \n4     Swing          -0.308262      -27.109             0.0  ",
      "text/html": "<div>\n<style scoped>\n    .dataframe tbody tr th:only-of-type {\n        vertical-align: middle;\n    }\n\n    .dataframe tbody tr th {\n        vertical-align: top;\n    }\n\n    .dataframe thead th {\n        text-align: right;\n    }\n</style>\n<table border=\"1\" class=\"dataframe\">\n  <thead>\n    <tr style=\"text-align: right;\">\n      <th></th>\n      <th>Data Negócio</th>\n      <th>C/V</th>\n      <th>Código</th>\n      <th>Quantidade</th>\n      <th>Preço (R$)</th>\n      <th>Valor Total (R$)</th>\n      <th>Day/Swing</th>\n      <th>Custo de Operação</th>\n      <th>Custo Médio</th>\n      <th>Lucro da Venda</th>\n    </tr>\n  </thead>\n  <tbody>\n    <tr>\n      <th>0</th>\n      <td>2020-05-08</td>\n      <td>C</td>\n      <td>COGN3</td>\n      <td>10000</td>\n      <td>4.70</td>\n      <td>-47000.0</td>\n      <td>Swing</td>\n      <td>-15.275000</td>\n      <td>-4.702</td>\n      <td>0.0</td>\n    </tr>\n    <tr>\n      <th>1</th>\n      <td>2020-05-08</td>\n      <td>C</td>\n      <td>TAEE4</td>\n      <td>100</td>\n      <td>8.90</td>\n      <td>-890.0</td>\n      <td>Swing</td>\n      <td>-0.289250</td>\n      <td>-8.903</td>\n      <td>0.0</td>\n    </tr>\n    <tr>\n      <th>2</th>\n      <td>2020-05-13</td>\n      <td>C</td>\n      <td>IRDM11</td>\n      <td>5</td>\n      <td>100.42</td>\n      <td>-502.1</td>\n      <td>Swing</td>\n      <td>-0.163182</td>\n      <td>-100.453</td>\n      <td>0.0</td>\n    </tr>\n    <tr>\n      <th>3</th>\n      <td>2020-05-13</td>\n      <td>C</td>\n      <td>WEGE3</td>\n      <td>3</td>\n      <td>38.00</td>\n      <td>-114.0</td>\n      <td>Swing</td>\n      <td>-0.037050</td>\n      <td>-38.012</td>\n      <td>0.0</td>\n    </tr>\n    <tr>\n      <th>4</th>\n      <td>2020-05-20</td>\n      <td>C</td>\n      <td>BBAS3</td>\n      <td>35</td>\n      <td>27.10</td>\n      <td>-948.5</td>\n      <td>Swing</td>\n      <td>-0.308262</td>\n      <td>-27.109</td>\n      <td>0.0</td>\n    </tr>\n  </tbody>\n</table>\n</div>"
     },
     "metadata": {},
     "execution_count": 300
    }
   ],
   "source": [
    "df_general.head()"
   ]
  },
  {
   "cell_type": "code",
   "execution_count": 301,
   "metadata": {},
   "outputs": [],
   "source": [
    "tickers = df_general[\"Código\"].unique() \n",
    "df_general[\"Custo Médio\"] = 0.\n",
    "\n",
    "for ticker in tickers:\n",
    "    means = {\"Custo\":[], \"N\":[]}\n",
    "    for index, row in df_general[(df_general[\"Código\"] == ticker)&(df_general['C/V']=='C')].iterrows():\n",
    "        means[\"Custo\"].append(row[\"Valor Total (R$)\"] +  row['Custo de Operação'])\n",
    "        means[\"N\"].append(row[\"Quantidade\"])\n",
    "        mean = -1*sum(means[\"Custo\"])/(sum(means['N']))\n",
    "        df_general.at[index,'Custo Médio'] = round(mean,3)\n",
    "\n",
    "\n"
   ]
  },
  {
   "cell_type": "markdown",
   "metadata": {},
   "source": [
    "Calculating the profit for each sell"
   ]
  },
  {
   "cell_type": "code",
   "execution_count": 302,
   "metadata": {},
   "outputs": [],
   "source": [
    "df_general[\"Lucro da Venda\"] = 0.\n",
    "\n",
    "indices = df_general[df_general[\"C/V\"] == 'V'].index\n",
    "\n",
    "for index in indices:\n",
    "    quantity = df_general.loc[index][\"Quantidade\"]\n",
    "    total = df_general.loc[index][\"Valor Total (R$)\"] + df_general.loc[index][\"Custo de Operação\"]\n",
    "    ticker = df_general.loc[index][\"Código\"]\n",
    "    custo_medio = df_general[(df_general[\"Código\"] ==ticker) & (df_general[\"C/V\"] == 'C')].loc[:index][\"Custo Médio\"].values[-1]\n",
    "    df_general.at[index, \"Lucro da Venda\"] = round(total - (quantity * custo_medio),2)\n"
   ]
  },
  {
   "cell_type": "markdown",
   "metadata": {},
   "source": [
    "## Final Script"
   ]
  },
  {
   "cell_type": "code",
   "execution_count": 54,
   "metadata": {},
   "outputs": [],
   "source": [
    "def general_view(df1):\n",
    "\n",
    "    df=df1.copy()\n",
    "\n",
    "    #finding the day-trade operations\n",
    "    day_trade = {\"date\":[], \"ticker\":[], 'index':[]}\n",
    "\n",
    "    dates = df[\"Data Negócio\"].unique()\n",
    "\n",
    "    for date in dates:\n",
    "        tickers = df[df[\"Data Negócio\"]==date]['Código'].unique()\n",
    "        for ticker in tickers:\n",
    "            if all(x in df[(df[\"Data Negócio\"]==date) & (df[\"Código\"]==ticker)][\"C/V\"].values for x in [\"C\",\"V\"]):\n",
    "                day_trade['index'].append(df[(df[\"Data Negócio\"]==date) & (df[\"Código\"]==ticker)][\"C/V\"].index)\n",
    "                day_trade['date'].append(date)\n",
    "                day_trade['ticker'].append(ticker)\n",
    "\n",
    "    day_trade[\"index\"] = [item for sublist in day_trade['index'] for item in sublist]\n",
    "\n",
    "    #creating a new column to mark the swing/day trades\n",
    "\n",
    "    df['Day/Swing'] = \"Swing\"\n",
    "\n",
    "    df.at[day_trade['index'], 'Day/Swing'] = 'Day'\n",
    "\n",
    "    #Calculating the operational costs of the negotiations.\n",
    "\n",
    "    df[\"Valor Total (R$)\"] = np.where(df[\"C/V\"] == \"C\", -1* df[\"Valor Total (R$)\"], df[\"Valor Total (R$)\"])\n",
    "\n",
    "\n",
    "    df['Custo de Operação'] = np.where(df[\"C/V\"] == \"V\", -1*df['Valor Total (R$)'] * (0.000325 + 0.00005),df['Valor Total (R$)'] * (0.000325))\n",
    "\n",
    "    df['Custo de Operação'] = round(df['Custo de Operação'],3)\n",
    "\n",
    "    \n",
    "    #calculationg the mean cost of a purchased stock and its evolution by new acquisition for swing trade. \n",
    "    tickers = df[\"Código\"].unique() \n",
    "    df[\"Custo Médio\"] = 0.\n",
    "\n",
    "    for ticker in tickers:\n",
    "        means = {\"Custo\":[], \"N\":[]}\n",
    "        for index, row in df[(df[\"Código\"] == ticker) & (df['C/V']=='C')].iterrows():\n",
    "            if index not in day_trade[\"index\"]:\n",
    "                means[\"Custo\"].append(row[\"Valor Total (R$)\"] +  row['Custo de Operação'])\n",
    "                means[\"N\"].append(row[\"Quantidade\"])\n",
    "                mean = -1*sum(means[\"Custo\"])/(sum(means['N']))\n",
    "                df.at[index,'Custo Médio'] = round(mean,3)\n",
    "    \n",
    "    #calculating custo medio for day-trade operations\n",
    "    for date in day_trade[\"date\"]:\n",
    "        for ticker in df[df['Data Negócio']==date][\"Código\"].unique():\n",
    "            if ticker in day_trade['ticker']:\n",
    "                day_indices = df[(df['Data Negócio']==date) & (df['Código']==ticker) & (df[\"C/V\"]=='C')].index\n",
    "                total_quantity = df.iloc[day_indices][\"Quantidade\"].sum()\n",
    "                price_sum = df.iloc[day_indices][\"Valor Total (R$)\"].sum()\n",
    "                cost_sum = df.iloc[day_indices]['Custo de Operação'].sum()\n",
    "                total = price_sum + cost_sum\n",
    "                df.at[day_indices, 'Custo Médio'] = -1*round(total/total_quantity, 3)\n",
    "\n",
    "\n",
    "\n",
    "    #calculating the profit of each sell\n",
    "\n",
    "    df[\"Lucro da Venda\"] = 0. \n",
    "\n",
    "    indices = df[df[\"C/V\"] == 'V'].index\n",
    "\n",
    "    for index in indices:\n",
    "        if df.iloc[index]['Day/Swing'] == \"Swing\":\n",
    "            quantity = df.iloc[index][\"Quantidade\"]\n",
    "            total = df.iloc[index][\"Valor Total (R$)\"] + df.iloc[index][\"Custo de Operação\"]\n",
    "            ticker = df.iloc[index][\"Código\"]\n",
    "            custo_medio = df[(df[\"Código\"] ==ticker) & (df[\"C/V\"] == 'C')].iloc[:index][\"Custo Médio\"].values[-1]\n",
    "            df.at[index, \"Lucro da Venda\"] = round(total - (quantity * custo_medio),3)\n",
    "\n",
    "        if df.iloc[index]['Day/Swing'] == \"Day\":\n",
    "            total = df.iloc[index][\"Valor Total (R$)\"] + df.iloc[index][\"Custo de Operação\"]\n",
    "            ticker = df.iloc[index][\"Código\"]\n",
    "            quantity = df.iloc[index][\"Quantidade\"]\n",
    "            date = df.iloc[index][\"Data Negócio\"]\n",
    "            custo_medio = df[(df[\"Código\"] ==ticker) & (df[\"C/V\"] == 'C')&(df[\"Data Negócio\"]==date)][\"Custo Médio\"].values[0]\n",
    "            df.at[index, \"Lucro da Venda\"] = round(total - (quantity * custo_medio),3)\n",
    "\n",
    "\n",
    "\n",
    "\n",
    "    \n",
    "\n",
    "    return df"
   ]
  },
  {
   "cell_type": "code",
   "execution_count": 55,
   "metadata": {
    "tags": []
   },
   "outputs": [],
   "source": [
    "test = general_view(df_orig)"
   ]
  },
  {
   "cell_type": "code",
   "execution_count": 56,
   "metadata": {},
   "outputs": [
    {
     "output_type": "execute_result",
     "data": {
      "text/plain": "   Data Negócio C/V Código  Quantidade  Preço (R$)  Valor Total (R$)  \\\n23   2020-07-23   C  OIBR4          24        1.67            -40.08   \n24   2020-07-23   C  OIBR4          11        1.67            -18.37   \n25   2020-07-23   C  OIBR4          64        1.67           -106.88   \n42   2020-07-29   C  OIBR4         300        4.08          -1224.00   \n46   2020-07-29   V  OIBR4          25        3.90             97.50   \n47   2020-07-29   V  OIBR4          20        3.90             78.00   \n48   2020-07-29   V  OIBR4           4        3.90             15.60   \n49   2020-07-29   V  OIBR4          49        3.90            191.10   \n50   2020-07-29   V  OIBR4           1        3.90              3.90   \n\n   Day/Swing  Custo de Operação  Custo Médio  Lucro da Venda  \n23     Swing             -0.013        1.671           0.000  \n24     Swing             -0.006        1.671           0.000  \n25     Swing             -0.035        1.671           0.000  \n42       Day             -0.398        4.081           0.000  \n46       Day             -0.037        0.000          -4.562  \n47       Day             -0.029        0.000          -3.649  \n48       Day             -0.006        0.000          -0.730  \n49       Day             -0.072        0.000          -8.941  \n50       Day             -0.001        0.000          -0.182  ",
      "text/html": "<div>\n<style scoped>\n    .dataframe tbody tr th:only-of-type {\n        vertical-align: middle;\n    }\n\n    .dataframe tbody tr th {\n        vertical-align: top;\n    }\n\n    .dataframe thead th {\n        text-align: right;\n    }\n</style>\n<table border=\"1\" class=\"dataframe\">\n  <thead>\n    <tr style=\"text-align: right;\">\n      <th></th>\n      <th>Data Negócio</th>\n      <th>C/V</th>\n      <th>Código</th>\n      <th>Quantidade</th>\n      <th>Preço (R$)</th>\n      <th>Valor Total (R$)</th>\n      <th>Day/Swing</th>\n      <th>Custo de Operação</th>\n      <th>Custo Médio</th>\n      <th>Lucro da Venda</th>\n    </tr>\n  </thead>\n  <tbody>\n    <tr>\n      <th>23</th>\n      <td>2020-07-23</td>\n      <td>C</td>\n      <td>OIBR4</td>\n      <td>24</td>\n      <td>1.67</td>\n      <td>-40.08</td>\n      <td>Swing</td>\n      <td>-0.013</td>\n      <td>1.671</td>\n      <td>0.000</td>\n    </tr>\n    <tr>\n      <th>24</th>\n      <td>2020-07-23</td>\n      <td>C</td>\n      <td>OIBR4</td>\n      <td>11</td>\n      <td>1.67</td>\n      <td>-18.37</td>\n      <td>Swing</td>\n      <td>-0.006</td>\n      <td>1.671</td>\n      <td>0.000</td>\n    </tr>\n    <tr>\n      <th>25</th>\n      <td>2020-07-23</td>\n      <td>C</td>\n      <td>OIBR4</td>\n      <td>64</td>\n      <td>1.67</td>\n      <td>-106.88</td>\n      <td>Swing</td>\n      <td>-0.035</td>\n      <td>1.671</td>\n      <td>0.000</td>\n    </tr>\n    <tr>\n      <th>42</th>\n      <td>2020-07-29</td>\n      <td>C</td>\n      <td>OIBR4</td>\n      <td>300</td>\n      <td>4.08</td>\n      <td>-1224.00</td>\n      <td>Day</td>\n      <td>-0.398</td>\n      <td>4.081</td>\n      <td>0.000</td>\n    </tr>\n    <tr>\n      <th>46</th>\n      <td>2020-07-29</td>\n      <td>V</td>\n      <td>OIBR4</td>\n      <td>25</td>\n      <td>3.90</td>\n      <td>97.50</td>\n      <td>Day</td>\n      <td>-0.037</td>\n      <td>0.000</td>\n      <td>-4.562</td>\n    </tr>\n    <tr>\n      <th>47</th>\n      <td>2020-07-29</td>\n      <td>V</td>\n      <td>OIBR4</td>\n      <td>20</td>\n      <td>3.90</td>\n      <td>78.00</td>\n      <td>Day</td>\n      <td>-0.029</td>\n      <td>0.000</td>\n      <td>-3.649</td>\n    </tr>\n    <tr>\n      <th>48</th>\n      <td>2020-07-29</td>\n      <td>V</td>\n      <td>OIBR4</td>\n      <td>4</td>\n      <td>3.90</td>\n      <td>15.60</td>\n      <td>Day</td>\n      <td>-0.006</td>\n      <td>0.000</td>\n      <td>-0.730</td>\n    </tr>\n    <tr>\n      <th>49</th>\n      <td>2020-07-29</td>\n      <td>V</td>\n      <td>OIBR4</td>\n      <td>49</td>\n      <td>3.90</td>\n      <td>191.10</td>\n      <td>Day</td>\n      <td>-0.072</td>\n      <td>0.000</td>\n      <td>-8.941</td>\n    </tr>\n    <tr>\n      <th>50</th>\n      <td>2020-07-29</td>\n      <td>V</td>\n      <td>OIBR4</td>\n      <td>1</td>\n      <td>3.90</td>\n      <td>3.90</td>\n      <td>Day</td>\n      <td>-0.001</td>\n      <td>0.000</td>\n      <td>-0.182</td>\n    </tr>\n  </tbody>\n</table>\n</div>"
     },
     "metadata": {},
     "execution_count": 56
    }
   ],
   "source": [
    "test[test['Código'] == \"OIBR4\"]"
   ]
  },
  {
   "cell_type": "markdown",
   "metadata": {},
   "source": [
    "The below function depends on the previsouly sliced dataframe to calculate the tax"
   ]
  },
  {
   "cell_type": "code",
   "execution_count": 11,
   "metadata": {
    "tags": []
   },
   "outputs": [],
   "source": [
    "def day_trade_imposto(df):\n",
    "\n",
    "    df = df[df[\"Day/Swing\"]==\"Day\"].copy()\n",
    "    for index in df.index:\n",
    "            df.at[index, \"DARF\"] = df.loc[index][\"Lucro da Venda\"]* 0.20\n",
    "    \n",
    "    df_group = df[['Data Negócio', 'C/V', 'Código', 'Quantidade', \n",
    "    'Valor Total (R$)', 'Custo de Operação', 'Lucro da Venda',  \"Day/Swing\", \"DARF\"]].groupby(['Data Negócio', \"Código\", \"C/V\"]).sum()\n",
    "\n",
    "    imposto_day = df_group['DARF'].sum()\n",
    "\n",
    "    \n",
    "    print(f\"O total imposto devido em relação as operações day-trade no periodo escolhido é {round(imposto_day,2)}\")\n",
    "\n",
    "    return df_group[df_group['DARF']!=0]"
   ]
  },
  {
   "cell_type": "code",
   "execution_count": 42,
   "metadata": {},
   "outputs": [],
   "source": [
    "def swing_trade_imposto(df):\n",
    "\n",
    "    df = df[df[\"Day/Swing\"]==\"Swing\"].copy()\n",
    "        \n",
    "    for y in df[\"Data Negócio\"].dt.year.unique():\n",
    "        for m in df[df[\"Data Negócio\"].dt.year ==y][\"Data Negócio\"].dt.month.unique():\n",
    "            for ticker in df[(df[\"Data Negócio\"].dt.year ==y) & (df[\"Data Negócio\"].dt.month ==m)][\"Código\"].unique():\n",
    "                venda_mes = df[(df[\"C/V\"]==\"V\") & (df[\"Data Negócio\"].dt.month ==m) & (df[\"Data Negócio\"].dt.year ==y) & (df[\"Código\"]==ticker)]['Valor Total (R$)'].sum()\n",
    "                \n",
    "                if venda_mes >= 20000:\n",
    "                    for index in df[(df[\"C/V\"] == 'V') & (df[\"Data Negócio\"].dt.month == m) & (df[\"Data Negócio\"].dt.year == y)& (df[\"Código\"]==ticker)].index:\n",
    "                        df.at[index, \"DARF\"] = df.loc[index][\"Lucro da Venda\"]* 0.15\n",
    "\n",
    "\n",
    "                    valor = df[(df[\"C/V\"] == 'V') & (df[\"Data Negócio\"].dt.month == m) & (df[\"Data Negócio\"].dt.year == y)& (df[\"Código\"]==ticker)][\"DARF\"].sum()\n",
    "                    print(f\"O total imposto devido em relação as operações swing-trade no mes {m} do ano {y} escolhido é {round(valor,2)}R$\")\n",
    "\n",
    "    df_group = df[['Data Negócio', 'C/V', 'Código', 'Quantidade', \n",
    "'Valor Total (R$)','Custo de Operação', 'Lucro da Venda', 'Day/Swing', \"DARF\"]].groupby(['Data Negócio', \"Código\", \"C/V\"]).sum()\n",
    "    \n",
    "   \n",
    "    return df_group[df_group['DARF']!=0]"
   ]
  },
  {
   "cell_type": "code",
   "execution_count": 45,
   "metadata": {},
   "outputs": [],
   "source": [
    "def impostos(dataset,year ='todos',month='todos',day='todos',modalidade='todos'):\n",
    "\n",
    "    if modalidade == \"todos\":\n",
    "        df = dataset.copy()\n",
    "    elif modalidade =='day':\n",
    "        df = dataset[dataset['Day/Swing']==\"Day\"].copy()\n",
    "    elif modalidade == 'swing':\n",
    "        df = dataset[dataset['Day/Swing']==\"Swing\"].copy()\n",
    "    else:\n",
    "        print(\"Erro de modalidade\")\n",
    "\n",
    "    \n",
    "    if year != 'todos' and month != 'todos' and day != 'todos':\n",
    "        df_new = df[(df[\"Data Negócio\"].dt.year == year) & (df[\"Data Negócio\"].dt.month == month) & (df[\"Data Negócio\"].dt.day == day)].copy()\n",
    "    elif year != 'todos' and month != 'todos':\n",
    "        df_new = df[(df[\"Data Negócio\"].dt.year == year) & (df[\"Data Negócio\"].dt.month == month)].copy()\n",
    "    elif year != 'todos':\n",
    "        df_new = df[(df[\"Data Negócio\"].dt.year == year)].copy()\n",
    "    else:\n",
    "        df_new = df.copy()\n",
    "\n",
    "    #creating a new column for DARF (tax)\n",
    "    df_new[\"DARF\"] = 0.\n",
    "\n",
    "    #Calculating the tax for the Day-trades\n",
    "    if modalidade == 'day':\n",
    "        df_group = day_trade_imposto(df_new)\n",
    "        df_group[\"Day/Swing\"] = \"Day\"\n",
    "\n",
    "    #Calculating the tax for the Swing-trades\n",
    "    if modalidade == 'swing':\n",
    "        df_group = swing_trade_imposto(df_new)\n",
    "        df_group[\"Day/Swing\"] = \"Swing\"\n",
    "\n",
    "    #calculating the tax for both types\n",
    "    if modalidade =='todos':\n",
    "        df_group1 = day_trade_imposto(df_new)\n",
    "        df_group1[\"Day/Swing\"] = \"Day\"\n",
    "\n",
    "        df_group2 = swing_trade_imposto(df_new)\n",
    "        df_group2[\"Day/Swing\"] = \"Swing\"\n",
    "\n",
    "        df_group = pd.concat([df_group1,df_group2])\n",
    "\n",
    "    return df_group\n"
   ]
  },
  {
   "cell_type": "code",
   "execution_count": 35,
   "metadata": {
    "tags": []
   },
   "outputs": [
    {
     "output_type": "stream",
     "name": "stdout",
     "text": "O total imposto devido em relação as operações day-trade no periodo escolhido é 778.29\n"
    },
    {
     "output_type": "execute_result",
     "data": {
      "text/plain": "                         Quantidade  Valor Total (R$)  Custo de Operação  \\\nData Negócio Código C/V                                                    \n2020-07-29   OIBR4  V            99             386.1          -0.144787   \n             VVAR3  V            78            1586.6          -0.594975   \n\n                         Lucro da Venda        DARF  \nData Negócio Código C/V                              \n2020-07-29   OIBR4  V        730.772212  146.154442  \n             VVAR3  V       3160.669025  632.133805  ",
      "text/html": "<div>\n<style scoped>\n    .dataframe tbody tr th:only-of-type {\n        vertical-align: middle;\n    }\n\n    .dataframe tbody tr th {\n        vertical-align: top;\n    }\n\n    .dataframe thead th {\n        text-align: right;\n    }\n</style>\n<table border=\"1\" class=\"dataframe\">\n  <thead>\n    <tr style=\"text-align: right;\">\n      <th></th>\n      <th></th>\n      <th></th>\n      <th>Quantidade</th>\n      <th>Valor Total (R$)</th>\n      <th>Custo de Operação</th>\n      <th>Lucro da Venda</th>\n      <th>DARF</th>\n    </tr>\n    <tr>\n      <th>Data Negócio</th>\n      <th>Código</th>\n      <th>C/V</th>\n      <th></th>\n      <th></th>\n      <th></th>\n      <th></th>\n      <th></th>\n    </tr>\n  </thead>\n  <tbody>\n    <tr>\n      <th rowspan=\"2\" valign=\"top\">2020-07-29</th>\n      <th>OIBR4</th>\n      <th>V</th>\n      <td>99</td>\n      <td>386.1</td>\n      <td>-0.144787</td>\n      <td>730.772212</td>\n      <td>146.154442</td>\n    </tr>\n    <tr>\n      <th>VVAR3</th>\n      <th>V</th>\n      <td>78</td>\n      <td>1586.6</td>\n      <td>-0.594975</td>\n      <td>3160.669025</td>\n      <td>632.133805</td>\n    </tr>\n  </tbody>\n</table>\n</div>"
     },
     "metadata": {},
     "execution_count": 35
    }
   ],
   "source": [
    "impostos(test, year = 2020, month=7, day=29, modalidade = 'day')"
   ]
  },
  {
   "cell_type": "code",
   "execution_count": 46,
   "metadata": {
    "tags": []
   },
   "outputs": [
    {
     "output_type": "stream",
     "name": "stdout",
     "text": "O total imposto devido em relação as operações day-trade no periodo escolhido é 10.13\nO total imposto devido em relação as operações swing-trade no mes 5 do ano 2020 escolhido é 24.35R$\nO total imposto devido em relação as operações swing-trade no mes 7 do ano 2020 escolhido é 66.63R$\n"
    },
    {
     "output_type": "execute_result",
     "data": {
      "text/plain": "                         Quantidade  Valor Total (R$)  Custo de Operação  \\\nData Negócio Código C/V                                                    \n2020-07-27   GGBR4  V            10             174.3          -0.065363   \n2020-07-29   OIBR4  V            99             386.1          -0.144787   \n             VVAR3  V            78            1586.6          -0.594975   \n2020-05-25   COGN3  V         10000           47200.0         -17.700000   \n2020-07-28   VALE3  V           500           30150.0         -11.306250   \n\n                         Lucro da Venda       DARF Day/Swing  \nData Negócio Código C/V                                       \n2020-07-27   GGBR4  V         -1.825362  -0.365072       Day  \n2020-07-29   OIBR4  V         41.138212   8.227642       Day  \n             VVAR3  V         11.341025   2.268205       Day  \n2020-05-25   COGN3  V        162.300000  24.345000     Swing  \n2020-07-28   VALE3  V        444.193750  66.629062     Swing  ",
      "text/html": "<div>\n<style scoped>\n    .dataframe tbody tr th:only-of-type {\n        vertical-align: middle;\n    }\n\n    .dataframe tbody tr th {\n        vertical-align: top;\n    }\n\n    .dataframe thead th {\n        text-align: right;\n    }\n</style>\n<table border=\"1\" class=\"dataframe\">\n  <thead>\n    <tr style=\"text-align: right;\">\n      <th></th>\n      <th></th>\n      <th></th>\n      <th>Quantidade</th>\n      <th>Valor Total (R$)</th>\n      <th>Custo de Operação</th>\n      <th>Lucro da Venda</th>\n      <th>DARF</th>\n      <th>Day/Swing</th>\n    </tr>\n    <tr>\n      <th>Data Negócio</th>\n      <th>Código</th>\n      <th>C/V</th>\n      <th></th>\n      <th></th>\n      <th></th>\n      <th></th>\n      <th></th>\n      <th></th>\n    </tr>\n  </thead>\n  <tbody>\n    <tr>\n      <th>2020-07-27</th>\n      <th>GGBR4</th>\n      <th>V</th>\n      <td>10</td>\n      <td>174.3</td>\n      <td>-0.065363</td>\n      <td>-1.825362</td>\n      <td>-0.365072</td>\n      <td>Day</td>\n    </tr>\n    <tr>\n      <th rowspan=\"2\" valign=\"top\">2020-07-29</th>\n      <th>OIBR4</th>\n      <th>V</th>\n      <td>99</td>\n      <td>386.1</td>\n      <td>-0.144787</td>\n      <td>41.138212</td>\n      <td>8.227642</td>\n      <td>Day</td>\n    </tr>\n    <tr>\n      <th>VVAR3</th>\n      <th>V</th>\n      <td>78</td>\n      <td>1586.6</td>\n      <td>-0.594975</td>\n      <td>11.341025</td>\n      <td>2.268205</td>\n      <td>Day</td>\n    </tr>\n    <tr>\n      <th>2020-05-25</th>\n      <th>COGN3</th>\n      <th>V</th>\n      <td>10000</td>\n      <td>47200.0</td>\n      <td>-17.700000</td>\n      <td>162.300000</td>\n      <td>24.345000</td>\n      <td>Swing</td>\n    </tr>\n    <tr>\n      <th>2020-07-28</th>\n      <th>VALE3</th>\n      <th>V</th>\n      <td>500</td>\n      <td>30150.0</td>\n      <td>-11.306250</td>\n      <td>444.193750</td>\n      <td>66.629062</td>\n      <td>Swing</td>\n    </tr>\n  </tbody>\n</table>\n</div>"
     },
     "metadata": {},
     "execution_count": 46
    }
   ],
   "source": [
    "impostos(test)"
   ]
  },
  {
   "cell_type": "code",
   "execution_count": 44,
   "metadata": {
    "tags": []
   },
   "outputs": [
    {
     "output_type": "stream",
     "name": "stdout",
     "text": "O total imposto devido em relação as operações day-trade no periodo escolhido é 10.13\nO total imposto devido em relação as operações swing-trade no mes 5 do ano 2020 escolhido é 24.35R$\nO total imposto devido em relação as operações swing-trade no mes 7 do ano 2020 escolhido é 66.63R$\n"
    },
    {
     "output_type": "execute_result",
     "data": {
      "text/plain": "                         Quantidade  Valor Total (R$)  Custo de Operação  \\\nData Negócio Código C/V                                                    \n2020-07-27   GGBR4  V            10             174.3          -0.065363   \n2020-07-29   OIBR4  V            99             386.1          -0.144787   \n             VVAR3  V            78            1586.6          -0.594975   \n2020-05-25   COGN3  V         10000           47200.0         -17.700000   \n2020-07-28   VALE3  V           500           30150.0         -11.306250   \n\n                         Lucro da Venda       DARF  \nData Negócio Código C/V                             \n2020-07-27   GGBR4  V         -1.825362  -0.365072  \n2020-07-29   OIBR4  V         41.138212   8.227642  \n             VVAR3  V         11.341025   2.268205  \n2020-05-25   COGN3  V        162.300000  24.345000  \n2020-07-28   VALE3  V        444.193750  66.629062  ",
      "text/html": "<div>\n<style scoped>\n    .dataframe tbody tr th:only-of-type {\n        vertical-align: middle;\n    }\n\n    .dataframe tbody tr th {\n        vertical-align: top;\n    }\n\n    .dataframe thead th {\n        text-align: right;\n    }\n</style>\n<table border=\"1\" class=\"dataframe\">\n  <thead>\n    <tr style=\"text-align: right;\">\n      <th></th>\n      <th></th>\n      <th></th>\n      <th>Quantidade</th>\n      <th>Valor Total (R$)</th>\n      <th>Custo de Operação</th>\n      <th>Lucro da Venda</th>\n      <th>DARF</th>\n    </tr>\n    <tr>\n      <th>Data Negócio</th>\n      <th>Código</th>\n      <th>C/V</th>\n      <th></th>\n      <th></th>\n      <th></th>\n      <th></th>\n      <th></th>\n    </tr>\n  </thead>\n  <tbody>\n    <tr>\n      <th>2020-07-27</th>\n      <th>GGBR4</th>\n      <th>V</th>\n      <td>10</td>\n      <td>174.3</td>\n      <td>-0.065363</td>\n      <td>-1.825362</td>\n      <td>-0.365072</td>\n    </tr>\n    <tr>\n      <th rowspan=\"2\" valign=\"top\">2020-07-29</th>\n      <th>OIBR4</th>\n      <th>V</th>\n      <td>99</td>\n      <td>386.1</td>\n      <td>-0.144787</td>\n      <td>41.138212</td>\n      <td>8.227642</td>\n    </tr>\n    <tr>\n      <th>VVAR3</th>\n      <th>V</th>\n      <td>78</td>\n      <td>1586.6</td>\n      <td>-0.594975</td>\n      <td>11.341025</td>\n      <td>2.268205</td>\n    </tr>\n    <tr>\n      <th>2020-05-25</th>\n      <th>COGN3</th>\n      <th>V</th>\n      <td>10000</td>\n      <td>47200.0</td>\n      <td>-17.700000</td>\n      <td>162.300000</td>\n      <td>24.345000</td>\n    </tr>\n    <tr>\n      <th>2020-07-28</th>\n      <th>VALE3</th>\n      <th>V</th>\n      <td>500</td>\n      <td>30150.0</td>\n      <td>-11.306250</td>\n      <td>444.193750</td>\n      <td>66.629062</td>\n    </tr>\n  </tbody>\n</table>\n</div>"
     },
     "metadata": {},
     "execution_count": 44
    }
   ],
   "source": [
    "impostos(test, year = 2020)"
   ]
  },
  {
   "cell_type": "code",
   "execution_count": 39,
   "metadata": {},
   "outputs": [
    {
     "output_type": "execute_result",
     "data": {
      "text/plain": "  Data Negócio C/V  Código  Quantidade  Preço (R$)  Valor Total (R$)  \\\n0   2020-05-08   C   COGN3       10000        4.70         -47000.00   \n1   2020-05-08   C   TAEE4         100        8.90           -890.00   \n2   2020-05-13   C  IRDM11           5      100.42           -502.10   \n3   2020-05-13   C   WEGE3           3       38.00           -114.00   \n4   2020-05-20   C   BBAS3          35       27.10           -948.50   \n5   2020-05-25   V   COGN3       10000        4.72          47200.00   \n6   2020-05-27   C   ITSA4          14        9.09           -127.26   \n7   2020-05-27   C   ITSA4          46        9.09           -418.14   \n8   2020-06-03   C   ITUB4           9       26.23           -236.07   \n9   2020-06-03   C   ITUB4          30       26.23           -786.90   \n\n  Day/Swing  Custo de Operação  Custo Médio  Lucro da Venda  \n0     Swing         -15.275000        4.702             0.0  \n1     Swing          -0.289250        8.903             0.0  \n2     Swing          -0.163183      100.453             0.0  \n3     Swing          -0.037050       38.012             0.0  \n4     Swing          -0.308262       27.109             0.0  \n5     Swing         -17.700000        0.000           162.3  \n6     Swing          -0.041360        9.093             0.0  \n7     Swing          -0.135896        9.093             0.0  \n8     Swing          -0.076723       26.239             0.0  \n9     Swing          -0.255742       26.239             0.0  ",
      "text/html": "<div>\n<style scoped>\n    .dataframe tbody tr th:only-of-type {\n        vertical-align: middle;\n    }\n\n    .dataframe tbody tr th {\n        vertical-align: top;\n    }\n\n    .dataframe thead th {\n        text-align: right;\n    }\n</style>\n<table border=\"1\" class=\"dataframe\">\n  <thead>\n    <tr style=\"text-align: right;\">\n      <th></th>\n      <th>Data Negócio</th>\n      <th>C/V</th>\n      <th>Código</th>\n      <th>Quantidade</th>\n      <th>Preço (R$)</th>\n      <th>Valor Total (R$)</th>\n      <th>Day/Swing</th>\n      <th>Custo de Operação</th>\n      <th>Custo Médio</th>\n      <th>Lucro da Venda</th>\n    </tr>\n  </thead>\n  <tbody>\n    <tr>\n      <th>0</th>\n      <td>2020-05-08</td>\n      <td>C</td>\n      <td>COGN3</td>\n      <td>10000</td>\n      <td>4.70</td>\n      <td>-47000.00</td>\n      <td>Swing</td>\n      <td>-15.275000</td>\n      <td>4.702</td>\n      <td>0.0</td>\n    </tr>\n    <tr>\n      <th>1</th>\n      <td>2020-05-08</td>\n      <td>C</td>\n      <td>TAEE4</td>\n      <td>100</td>\n      <td>8.90</td>\n      <td>-890.00</td>\n      <td>Swing</td>\n      <td>-0.289250</td>\n      <td>8.903</td>\n      <td>0.0</td>\n    </tr>\n    <tr>\n      <th>2</th>\n      <td>2020-05-13</td>\n      <td>C</td>\n      <td>IRDM11</td>\n      <td>5</td>\n      <td>100.42</td>\n      <td>-502.10</td>\n      <td>Swing</td>\n      <td>-0.163183</td>\n      <td>100.453</td>\n      <td>0.0</td>\n    </tr>\n    <tr>\n      <th>3</th>\n      <td>2020-05-13</td>\n      <td>C</td>\n      <td>WEGE3</td>\n      <td>3</td>\n      <td>38.00</td>\n      <td>-114.00</td>\n      <td>Swing</td>\n      <td>-0.037050</td>\n      <td>38.012</td>\n      <td>0.0</td>\n    </tr>\n    <tr>\n      <th>4</th>\n      <td>2020-05-20</td>\n      <td>C</td>\n      <td>BBAS3</td>\n      <td>35</td>\n      <td>27.10</td>\n      <td>-948.50</td>\n      <td>Swing</td>\n      <td>-0.308262</td>\n      <td>27.109</td>\n      <td>0.0</td>\n    </tr>\n    <tr>\n      <th>5</th>\n      <td>2020-05-25</td>\n      <td>V</td>\n      <td>COGN3</td>\n      <td>10000</td>\n      <td>4.72</td>\n      <td>47200.00</td>\n      <td>Swing</td>\n      <td>-17.700000</td>\n      <td>0.000</td>\n      <td>162.3</td>\n    </tr>\n    <tr>\n      <th>6</th>\n      <td>2020-05-27</td>\n      <td>C</td>\n      <td>ITSA4</td>\n      <td>14</td>\n      <td>9.09</td>\n      <td>-127.26</td>\n      <td>Swing</td>\n      <td>-0.041360</td>\n      <td>9.093</td>\n      <td>0.0</td>\n    </tr>\n    <tr>\n      <th>7</th>\n      <td>2020-05-27</td>\n      <td>C</td>\n      <td>ITSA4</td>\n      <td>46</td>\n      <td>9.09</td>\n      <td>-418.14</td>\n      <td>Swing</td>\n      <td>-0.135896</td>\n      <td>9.093</td>\n      <td>0.0</td>\n    </tr>\n    <tr>\n      <th>8</th>\n      <td>2020-06-03</td>\n      <td>C</td>\n      <td>ITUB4</td>\n      <td>9</td>\n      <td>26.23</td>\n      <td>-236.07</td>\n      <td>Swing</td>\n      <td>-0.076723</td>\n      <td>26.239</td>\n      <td>0.0</td>\n    </tr>\n    <tr>\n      <th>9</th>\n      <td>2020-06-03</td>\n      <td>C</td>\n      <td>ITUB4</td>\n      <td>30</td>\n      <td>26.23</td>\n      <td>-786.90</td>\n      <td>Swing</td>\n      <td>-0.255742</td>\n      <td>26.239</td>\n      <td>0.0</td>\n    </tr>\n  </tbody>\n</table>\n</div>"
     },
     "metadata": {},
     "execution_count": 39
    }
   ],
   "source": [
    "test.head(10)"
   ]
  },
  {
   "cell_type": "code",
   "execution_count": 25,
   "metadata": {},
   "outputs": [
    {
     "output_type": "execute_result",
     "data": {
      "text/plain": "array(['LWSA3', 'IRBR3', 'OIBR4', 'VVAR3', 'WEGE3', 'GGBR4', 'VALE3',\n       'ABEV3'], dtype=object)"
     },
     "metadata": {},
     "execution_count": 25
    }
   ],
   "source": [
    "df[(df[\"Data Negócio\"].dt.year ==2020) & (df[\"Data Negócio\"].dt.month ==7)][\"Código\"].unique()"
   ]
  },
  {
   "cell_type": "code",
   "execution_count": null,
   "metadata": {},
   "outputs": [],
   "source": []
  }
 ]
}